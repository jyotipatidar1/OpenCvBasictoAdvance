{
 "cells": [
  {
   "cell_type": "code",
   "execution_count": 1,
   "metadata": {},
   "outputs": [],
   "source": [
    "import numpy as np\n",
    "import cv2 as cv"
   ]
  },
  {
   "cell_type": "code",
   "execution_count": 2,
   "metadata": {},
   "outputs": [],
   "source": [
    "def click_event(event,x,y,flags,param):\n",
    "    if event == cv.EVENT_LBUTTONDOWN:\n",
    "        font = cv.FONT_HERSHEY_SIMPLEX\n",
    "        strxy = str(x) + ',' +str(y)\n",
    "        cv.putText(img,strxy,(x,y) , font , .5 , (255,255,0) , 2)\n",
    "        cv.imshow('image',img)\n",
    "\n",
    "    if event == cv.EVENT_RBUTTONDOWN:\n",
    "        blue = img[y,x,0];\n",
    "        green = img[y,x,1];\n",
    "        red   = img[y,x,2];\n",
    "        font = cv.FONT_HERSHEY_SIMPLEX\n",
    "        strBGR = str(blue) + ',' + str(green) + ',' + str(red)\n",
    "        cv.putText(img,strBGR,(x,y),font,.5,(0,255,255),2)\n",
    "        cv.imshow('image',img)\n",
    "        \n",
    "# img = np.zeros((512,512,3),np.uint8)\n",
    "img = cv.imread('lena.jpg')\n",
    "cv.imshow('image',img)\n",
    "\n",
    "cv.setMouseCallback('image',click_event);\n",
    "\n",
    "\n",
    "\n",
    "cv.waitKey(0)\n",
    "cv.destroyAllWindows()\n",
    "        "
   ]
  },
  {
   "cell_type": "code",
   "execution_count": null,
   "metadata": {},
   "outputs": [],
   "source": []
  },
  {
   "cell_type": "code",
   "execution_count": null,
   "metadata": {},
   "outputs": [],
   "source": []
  }
 ],
 "metadata": {
  "kernelspec": {
   "display_name": "Python 3",
   "language": "python",
   "name": "python3"
  },
  "language_info": {
   "codemirror_mode": {
    "name": "ipython",
    "version": 3
   },
   "file_extension": ".py",
   "mimetype": "text/x-python",
   "name": "python",
   "nbconvert_exporter": "python",
   "pygments_lexer": "ipython3",
   "version": "3.7.6"
  }
 },
 "nbformat": 4,
 "nbformat_minor": 4
}
