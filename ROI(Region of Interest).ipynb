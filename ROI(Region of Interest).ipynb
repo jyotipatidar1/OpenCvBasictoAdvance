{
 "cells": [
  {
   "cell_type": "code",
   "execution_count": 26,
   "metadata": {},
   "outputs": [],
   "source": [
    "import numpy as np\n",
    "import cv2 as cv"
   ]
  },
  {
   "cell_type": "code",
   "execution_count": 27,
   "metadata": {},
   "outputs": [],
   "source": [
    "img = cv.imread('messi5.jpg');\n",
    "cv.imshow('messi',img)\n",
    "cv.waitKey(0)\n",
    "cv.destroyAllWindows()"
   ]
  },
  {
   "cell_type": "code",
   "execution_count": 38,
   "metadata": {},
   "outputs": [],
   "source": [
    "def click_event(event,x,y,flags,param):\n",
    "    if event == cv.EVENT_LBUTTONDOWN:\n",
    "        font = cv.FONT_HERSHEY_SIMPLEX\n",
    "        strxy = str(x) + ',' +str(y)\n",
    "        cv.putText(img,strxy,(x,y) , font , .5 , (255,255,0) , 2)\n",
    "        cv.imshow('image',img)\n",
    "\n",
    "img = cv.imread('messi5.jpg')\n",
    "cv.imshow('image',img)\n",
    "\n",
    "cv.setMouseCallback('image',click_event);\n",
    "cv.waitKey(0)\n",
    "cv.destroyAllWindows()"
   ]
  },
  {
   "cell_type": "code",
   "execution_count": 48,
   "metadata": {},
   "outputs": [
    {
     "name": "stdout",
     "output_type": "stream",
     "text": [
      "(342, 548, 3)\n",
      "562248\n",
      "uint8\n"
     ]
    }
   ],
   "source": [
    "img = cv.imread('messi5.jpg')\n",
    "print(img.shape)\n",
    "print(img.size)\n",
    "print(img.dtype)\n",
    "\n",
    "b,g,r = cv.split(img)\n",
    "img = cv.merge((b,g,r))\n",
    "\n",
    "balli = img[280:340 , 330:390]\n",
    "img[273:333 , 100:160] = balli\n",
    "\n",
    "cv.imshow('image',img)\n",
    "cv.waitKey(0)\n",
    "cv.destroyAllWindows()"
   ]
  },
  {
   "cell_type": "code",
   "execution_count": 56,
   "metadata": {},
   "outputs": [],
   "source": [
    "img2  = cv.imread('butterfly.jpg')\n",
    "\n",
    "img = cv.resize(img,(512,512))#resize both image , for adding two img must have size same\n",
    "img2 = cv.resize(img2,(512,512))\n",
    "\n",
    "# dis = cv.add(img,img2)# normal adding two images\n",
    "dis = cv.addWeighted(img,.5,img2,.5,0) #which image you want to show more percentage\n",
    "\n",
    "cv.imshow('img',dis);\n",
    "cv.waitKey(0)\n",
    "cv.destroyAllWindows()"
   ]
  },
  {
   "cell_type": "markdown",
   "metadata": {},
   "source": [
    "## BitWise Operations"
   ]
  },
  {
   "cell_type": "code",
   "execution_count": 40,
   "metadata": {},
   "outputs": [],
   "source": [
    "img2  = np.zeros((250,500,3),np.uint8)\n",
    "img2  = cv.rectangle(img2,(200,0),(300,100),(255,255,255),-1)\n",
    "img1  = np.zeros((250,500,3),np.uint8)\n",
    "img1  = cv.rectangle(img1,(250,0),(500,250),(255,255,255),-1)\n",
    "\n",
    "\n",
    "# bitAnd = cv.bitwise_and(img2,img1\n",
    "# # bitor = cv.bitwise_or(img2,img\n",
    "# bitXor = cv.bitwise_xor(img2,img1)\n",
    "bitNot1 = cv.bitwise_not(img1)\n",
    "bitNot2 = cv.bitwise_not(img2)\n",
    "\n",
    "cv.imshow('img1',img1)\n",
    "cv.imshow('img2',img2)\n",
    "# cv.imshow('img3',bitAnd)\n",
    "# cv.imshow('img3',bitor)\n",
    "# cv.imshow('img3',bitXor)\n",
    "cv.imshow('img3',bitNot1)\n",
    "cv.imshow('img3',bitNot2)\n",
    "\n",
    "\n",
    "cv.waitKey(0)\n",
    "cv.destroyAllWindows()\n"
   ]
  },
  {
   "cell_type": "code",
   "execution_count": 24,
   "metadata": {},
   "outputs": [],
   "source": [
    "import cv2\n",
    "import numpy as np\n",
    "\n",
    "img1 = np.zeros((250, 500, 3), np.uint8)\n",
    "img1 = cv2.rectangle(img1,(200, 0), (300, 100), (255, 255, 255), -1)\n",
    "\n",
    "\n",
    "bitAnd = cv2.bitwise_and(img2, img1)\n",
    "# bitOr = cv2.bitwise_or(img2, img1)\n",
    "# bitXor = cv2.bitwise_xor(img1, img2)\n",
    "# bitNot1 = cv2.bitwise_not(img1)\n",
    "# bitNot2 = cv2.bitwise_not(img2)\n",
    "\n",
    "cv2.imshow(\"img1\", img1)\n",
    "cv2.imshow(\"img2\", img2)\n",
    "cv2.imshow('bitAnd', bitAnd)\n",
    "# cv2.imshow('bitOr', bitOr)\n",
    "# cv2.imshow('bitXor', bitXor)\n",
    "# cv2.imshow('bitNot1', bitNot1)\n",
    "# cv2.imshow('bitNot2', bitNot2)\n",
    "\n",
    "cv2.waitKey(0)\n",
    "cv2.destroyAllWindows()"
   ]
  },
  {
   "cell_type": "code",
   "execution_count": null,
   "metadata": {},
   "outputs": [],
   "source": []
  }
 ],
 "metadata": {
  "kernelspec": {
   "display_name": "Python 3",
   "language": "python",
   "name": "python3"
  },
  "language_info": {
   "codemirror_mode": {
    "name": "ipython",
    "version": 3
   },
   "file_extension": ".py",
   "mimetype": "text/x-python",
   "name": "python",
   "nbconvert_exporter": "python",
   "pygments_lexer": "ipython3",
   "version": "3.7.6"
  }
 },
 "nbformat": 4,
 "nbformat_minor": 4
}
