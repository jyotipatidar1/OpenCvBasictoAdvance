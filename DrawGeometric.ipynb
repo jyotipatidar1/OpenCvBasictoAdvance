{
 "cells": [
  {
   "cell_type": "code",
   "execution_count": 1,
   "metadata": {},
   "outputs": [],
   "source": [
    "import numpy as np\n",
    "import cv2 as cv"
   ]
  },
  {
   "cell_type": "code",
   "execution_count": 18,
   "metadata": {},
   "outputs": [],
   "source": [
    "img = cv.imread('lena.jpg',1);\n",
    "img = cv.line(img,(0,0),(255,255),(0,255,0),10)#(img,starting cordinate,end point,BGR color ,thickness of line)\n",
    "img = cv.rectangle(img,(370,0),(470,80),(0,0,255),5)\n",
    "img = cv.arrowedLine(img,(212,0),(255,255),(255,0,0),15)\n",
    "img = cv.circle(img,(447,63),50,(255,255,0),5)\n",
    "font = cv.FONT_HERSHEY_SIMPLEX\n",
    "img = cv.putText(img,'OpenCV',(10,490),font,4,(255,255,255),10)\n",
    "cv.imshow('lena',img)\n",
    "cv.waitKey(0);\n",
    "cv.destroyAllWindows()"
   ]
  },
  {
   "cell_type": "code",
   "execution_count": 24,
   "metadata": {},
   "outputs": [],
   "source": [
    "#for full black image\n",
    "img = np.zeros([512,512,3],np.uint8)#([height,width,3],datatype) \n",
    "img = cv.line(img,(0,0),(255,255),(0,255,0),10)#(img,starting cordinate,end point,thickness of line)\n",
    "img = cv.rectangle(img,(370,0),(470,80),(0,0,255),5)\n",
    "img = cv.arrowedLine(img,(212,0),(255,255),(255,0,0),15)\n",
    "img = cv.circle(img,(447,63),50,(255,255,0),5)\n",
    "font = cv.FONT_HERSHEY_SIMPLEX\n",
    "img = cv.putText(img,'OpenCV',(10,490),font,4,(255,255,255),10)\n",
    "cv.imshow('img',img)\n",
    "cv.waitKey(0)\n",
    "cv.destroyAllWindows()"
   ]
  },
  {
   "cell_type": "code",
   "execution_count": 2,
   "metadata": {},
   "outputs": [],
   "source": [
    "##show Current Date and time on live video\n",
    "\n"
   ]
  },
  {
   "cell_type": "code",
   "execution_count": null,
   "metadata": {},
   "outputs": [],
   "source": []
  }
 ],
 "metadata": {
  "kernelspec": {
   "display_name": "Python 3",
   "language": "python",
   "name": "python3"
  },
  "language_info": {
   "codemirror_mode": {
    "name": "ipython",
    "version": 3
   },
   "file_extension": ".py",
   "mimetype": "text/x-python",
   "name": "python",
   "nbconvert_exporter": "python",
   "pygments_lexer": "ipython3",
   "version": "3.7.6"
  }
 },
 "nbformat": 4,
 "nbformat_minor": 4
}
